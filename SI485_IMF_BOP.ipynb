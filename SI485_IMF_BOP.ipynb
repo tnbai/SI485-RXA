{
 "cells": [
  {
   "cell_type": "code",
   "execution_count": 4,
   "metadata": {},
   "outputs": [],
   "source": [
    "import requests\n",
    "import json\n",
    "import time\n",
    "import urllib.request\n",
    "import csv\n",
    "import pandas as pd        \n",
    "\n",
    "url = 'http://dataservices.imf.org/REST/SDMX_JSON.svc/'\n",
    "id_lst = ['BOP','CPI','COFER','DOT','ED','EQ','FSI','FM','GFSR', 'GFSE', 'GFSCOFOG','HPDD','IFS','ITS','ICSD','PPLT']\n",
    "\n",
    "# id_lst2 = ['BOP']\n",
    "# freq = 'Q'\n",
    "# ref = 'US'\n",
    "# metric = 'BXGM_BP6_USD'"
   ]
  },
  {
   "cell_type": "code",
   "execution_count": 5,
   "metadata": {},
   "outputs": [],
   "source": [
    "us_key = 'CompactData/BOP/Q.US.BXGM_BP6_USD' \n",
    "mx_key = 'CompactData/BOP/Q.MX.BXGM_BP6_USD'\n",
    "ca_key = 'CompactData/BOP/Q.CA.BXGM_BP6_USD'\n",
    "\n",
    "# Navigate to Series in API-returned JSON data\n",
    "us_data = (requests.get(f'{url}{us_key}').json()\n",
    "        ['CompactData']['DataSet']['Series'])\n",
    "\n",
    "mx_data = (requests.get(f'{url}{mx_key}').json()\n",
    "        ['CompactData']['DataSet']['Series'])\n",
    "\n",
    "ca_data = (requests.get(f'{url}{ca_key}').json()\n",
    "        ['CompactData']['DataSet']['Series'])\n"
   ]
  },
  {
   "cell_type": "code",
   "execution_count": 6,
   "metadata": {},
   "outputs": [],
   "source": [
    "# Save base year\n",
    "us_baseyr = us_data['Obs'][0]\n",
    "mx_baseyr = mx_data['Obs'][0] \n",
    "ca_baseyr = ca_data['Obs'][0] \n",
    "\n",
    "\n",
    "# Create dataframes from observations\n",
    "us_datalist = [[\"US\", obs.get('@TIME_PERIOD'), obs.get('@OBS_VALUE')]\n",
    "             for obs in us_data['Obs']]\n",
    "\n",
    "mx_datalist = [[\"MX\", obs.get('@TIME_PERIOD'), obs.get('@OBS_VALUE')]\n",
    "             for obs in mx_data['Obs']]\n",
    "\n",
    "ca_datalist = [[\"CA\", obs.get('@TIME_PERIOD'), obs.get('@OBS_VALUE')]\n",
    "             for obs in ca_data['Obs']]\n",
    "\n",
    "\n",
    "us_df = pd.DataFrame(us_datalist, columns=['country','date', 'value'])\n",
    "mx_df = pd.DataFrame(mx_datalist, columns=['country', 'date', 'value'])\n",
    "ca_df = pd.DataFrame(ca_datalist, columns=['country', 'date', 'value'])\n",
    "     \n",
    "    \n",
    "# us_df = us_df.set_index(pd.to_datetime(df['date']))['value'].astype('float')\n",
    "# mx_df = mx_df.set_index(pd.to_datetime(df1['date']))['value'].astype('float')\n",
    "# ca_df = ca_df.set_index(pd.to_datetime(df2['date']))['value'].astype('float')\n",
    "\n",
    "\n",
    "# # Save individual dataframes as CSV files\n",
    "# us_df.to_csv('US_BOP.csv', header=True)\n",
    "# mx_df.to_csv('MX_BOP.csv', header=True)\n",
    "# ca_df.to_csv('CA_BOP.csv', header=True)\n"
   ]
  },
  {
   "cell_type": "code",
   "execution_count": 7,
   "metadata": {},
   "outputs": [],
   "source": [
    "# Stacked dataframes to CSV\n",
    "\n",
    "all_dfs = [us_df, mx_df, ca_df]\n",
    "\n",
    "comb_df = pd.concat(all_dfs).set_index('country')\n",
    "#comb_df[180:200]\n",
    "\n",
    "comb_df.to_csv('IMF_BOP.csv', header=True)\n"
   ]
  },
  {
   "cell_type": "code",
   "execution_count": null,
   "metadata": {},
   "outputs": [],
   "source": []
  }
 ],
 "metadata": {
  "kernelspec": {
   "display_name": "Python 3",
   "language": "python",
   "name": "python3"
  },
  "language_info": {
   "codemirror_mode": {
    "name": "ipython",
    "version": 3
   },
   "file_extension": ".py",
   "mimetype": "text/x-python",
   "name": "python",
   "nbconvert_exporter": "python",
   "pygments_lexer": "ipython3",
   "version": "3.6.7"
  }
 },
 "nbformat": 4,
 "nbformat_minor": 4
}
